{
 "cells": [
  {
   "cell_type": "code",
   "execution_count": 57,
   "metadata": {},
   "outputs": [],
   "source": [
    "from pathlib import Path\n",
    "from src.data import make_dataset\n",
    "from dotenv import find_dotenv, load_dotenv\n",
    "import os\n",
    "from scipy import io\n",
    "import numpy as np"
   ]
  },
  {
   "cell_type": "code",
   "execution_count": 18,
   "metadata": {
    "scrolled": true
   },
   "outputs": [
    {
     "data": {
      "text/plain": [
       "True"
      ]
     },
     "execution_count": 18,
     "metadata": {},
     "output_type": "execute_result"
    }
   ],
   "source": [
    "load_dotenv(find_dotenv())"
   ]
  },
  {
   "cell_type": "code",
   "execution_count": 19,
   "metadata": {},
   "outputs": [],
   "source": [
    "project_dir = Path(os.getenv(\"project_dir\")).resolve()\n",
    "input_filepath = project_dir / \"data\" / \"raw\"\n",
    "output_filepath = project_dir / \"data\" / \"processed\"\n",
    "interim_filepath = project_dir / \"data\" / \"interim\""
   ]
  },
  {
   "cell_type": "code",
   "execution_count": 51,
   "metadata": {},
   "outputs": [],
   "source": [
    "classes = []\n",
    "x_train_links = []\n",
    "y_train = []\n",
    "with open(input_filepath / \"fru92_lists\" / \"fru_train.txt\") as f:\n",
    "    for line in f.readlines():\n",
    "        f_path, class_no = line.split(\" \")\n",
    "        name = f_path.split(\"/\")[0]\n",
    "        \n",
    "        if int(class_no) == len(classes):\n",
    "            classes.append(name)\n",
    "        \n",
    "        x_train_links.append(\"fru92_images/\" + f_path)\n",
    "        y_train.append(int(class_no))\n",
    "\n",
    "class_base = len(classes)\n",
    "with open(input_filepath / \"veg200_lists\" / \"veg_train.txt\") as f:\n",
    "    for line in f.readlines():\n",
    "        f_path, class_no = line.split(\" \")\n",
    "        name = f_path.split(\"/\")[0]\n",
    "        \n",
    "        if int(class_no)+class_base == len(classes):\n",
    "            classes.append(name)\n",
    "        \n",
    "        x_train_links.append(\"veg200_images/\" + f_path)\n",
    "        y_train.append(int(class_no)+class_base)"
   ]
  },
  {
   "cell_type": "code",
   "execution_count": 52,
   "metadata": {},
   "outputs": [],
   "source": [
    "x_test_links = []\n",
    "y_test = []\n",
    "\n",
    "x_val_links = []\n",
    "y_val = []\n",
    "with open(input_filepath / \"fru92_lists\" / \"fru_test.txt\") as f:\n",
    "    for line in f.readlines():\n",
    "        f_path, class_no = line.split(\" \")\n",
    "        name = f_path.split(\"/\")[0]\n",
    "        \n",
    "        x_test_links.append(\"fru92_images/\" + f_path)\n",
    "        y_test.append(int(class_no))\n",
    "        \n",
    "with open(input_filepath / \"veg200_lists\" / \"veg_test.txt\") as f:\n",
    "    for line in f.readlines():\n",
    "        f_path, class_no = line.split(\" \")\n",
    "        name = f_path.split(\"/\")[0]\n",
    "        \n",
    "        x_test_links.append(\"veg200_images/\" + f_path)\n",
    "        y_test.append(int(class_no)+class_base)\n",
    "        \n",
    "with open(input_filepath / \"fru92_lists\" / \"fru_val.txt\") as f:\n",
    "    for line in f.readlines():\n",
    "        f_path, class_no = line.split(\" \")\n",
    "        name = f_path.split(\"/\")[0]\n",
    "        \n",
    "        x_val_links.append(\"fru92_images/\" + f_path)\n",
    "        y_val.append(int(class_no))\n",
    "        \n",
    "with open(input_filepath / \"veg200_lists\" / \"veg_val.txt\") as f:\n",
    "    for line in f.readlines():\n",
    "        f_path, class_no = line.split(\" \")\n",
    "        name = f_path.split(\"/\")[0]\n",
    "        \n",
    "        x_val_links.append(\"veg200_images/\" + f_path)\n",
    "        y_val.append(int(class_no)+class_base)\n",
    "        "
   ]
  },
  {
   "cell_type": "code",
   "execution_count": null,
   "metadata": {},
   "outputs": [],
   "source": [
    "def links_to_images(links):\n",
    "    images = []\n",
    "    for link in links:\n",
    "        images.append(link_to_image(link))\n",
    "    return np.array(images)\n",
    "\n",
    "def link_to_image(link):\n",
    "    pass"
   ]
  }
 ],
 "metadata": {
  "kernelspec": {
   "display_name": "Python 3",
   "language": "python",
   "name": "python3"
  },
  "language_info": {
   "codemirror_mode": {
    "name": "ipython",
    "version": 3
   },
   "file_extension": ".py",
   "mimetype": "text/x-python",
   "name": "python",
   "nbconvert_exporter": "python",
   "pygments_lexer": "ipython3",
   "version": "3.7.1"
  }
 },
 "nbformat": 4,
 "nbformat_minor": 2
}
