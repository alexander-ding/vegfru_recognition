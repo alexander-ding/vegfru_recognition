{
 "cells": [
  {
   "cell_type": "code",
   "execution_count": 1,
   "metadata": {},
   "outputs": [],
   "source": [
    "from pathlib import Path\n",
    "from src.data import make_dataset\n",
    "from dotenv import find_dotenv, load_dotenv\n",
    "import os"
   ]
  },
  {
   "cell_type": "code",
   "execution_count": 2,
   "metadata": {
    "scrolled": true
   },
   "outputs": [
    {
     "data": {
      "text/plain": [
       "True"
      ]
     },
     "execution_count": 2,
     "metadata": {},
     "output_type": "execute_result"
    }
   ],
   "source": [
    "load_dotenv(find_dotenv())"
   ]
  },
  {
   "cell_type": "code",
   "execution_count": 3,
   "metadata": {},
   "outputs": [
    {
     "data": {
      "text/plain": [
       "'F://vegfru_recognition'"
      ]
     },
     "execution_count": 3,
     "metadata": {},
     "output_type": "execute_result"
    }
   ],
   "source": [
    "os.getenv(\"project_dir\")"
   ]
  },
  {
   "cell_type": "code",
   "execution_count": 5,
   "metadata": {},
   "outputs": [
    {
     "ename": "IndexError",
     "evalue": "2",
     "output_type": "error",
     "traceback": [
      "\u001b[1;31m---------------------------------------------------------------------------\u001b[0m",
      "\u001b[1;31mIndexError\u001b[0m                                Traceback (most recent call last)",
      "\u001b[1;32m<ipython-input-5-97ddb308312f>\u001b[0m in \u001b[0;36m<module>\u001b[1;34m\u001b[0m\n\u001b[1;32m----> 1\u001b[1;33m \u001b[0mproject_dir\u001b[0m \u001b[1;33m=\u001b[0m \u001b[0mPath\u001b[0m\u001b[1;33m(\u001b[0m\u001b[1;34m\"F://vegfru_recognition\"\u001b[0m\u001b[1;33m)\u001b[0m\u001b[1;33m.\u001b[0m\u001b[0mresolve\u001b[0m\u001b[1;33m(\u001b[0m\u001b[1;33m)\u001b[0m\u001b[1;33m.\u001b[0m\u001b[0mparents\u001b[0m\u001b[1;33m[\u001b[0m\u001b[1;36m2\u001b[0m\u001b[1;33m]\u001b[0m\u001b[1;33m\u001b[0m\u001b[1;33m\u001b[0m\u001b[0m\n\u001b[0m\u001b[0;32m      2\u001b[0m \u001b[0minput_filepath\u001b[0m \u001b[1;33m=\u001b[0m \u001b[0mproject_dir\u001b[0m \u001b[1;33m/\u001b[0m \u001b[1;34m\"data\"\u001b[0m \u001b[1;33m/\u001b[0m \u001b[1;34m\"raw\"\u001b[0m\u001b[1;33m\u001b[0m\u001b[1;33m\u001b[0m\u001b[0m\n\u001b[0;32m      3\u001b[0m \u001b[0moutput_filepath\u001b[0m \u001b[1;33m=\u001b[0m \u001b[0mproject_dir\u001b[0m \u001b[1;33m/\u001b[0m \u001b[1;34m\"data\"\u001b[0m \u001b[1;33m/\u001b[0m \u001b[1;34m\"processed\"\u001b[0m\u001b[1;33m\u001b[0m\u001b[1;33m\u001b[0m\u001b[0m\n\u001b[0;32m      4\u001b[0m \u001b[0minterim_filepath\u001b[0m \u001b[1;33m=\u001b[0m \u001b[0mproject_dir\u001b[0m \u001b[1;33m/\u001b[0m \u001b[1;34m\"data\"\u001b[0m \u001b[1;33m/\u001b[0m \u001b[1;34m\"interim\"\u001b[0m\u001b[1;33m\u001b[0m\u001b[1;33m\u001b[0m\u001b[0m\n",
      "\u001b[1;32m~\\Anaconda3\\lib\\pathlib.py\u001b[0m in \u001b[0;36m__getitem__\u001b[1;34m(self, idx)\u001b[0m\n\u001b[0;32m    585\u001b[0m     \u001b[1;32mdef\u001b[0m \u001b[0m__getitem__\u001b[0m\u001b[1;33m(\u001b[0m\u001b[0mself\u001b[0m\u001b[1;33m,\u001b[0m \u001b[0midx\u001b[0m\u001b[1;33m)\u001b[0m\u001b[1;33m:\u001b[0m\u001b[1;33m\u001b[0m\u001b[1;33m\u001b[0m\u001b[0m\n\u001b[0;32m    586\u001b[0m         \u001b[1;32mif\u001b[0m \u001b[0midx\u001b[0m \u001b[1;33m<\u001b[0m \u001b[1;36m0\u001b[0m \u001b[1;32mor\u001b[0m \u001b[0midx\u001b[0m \u001b[1;33m>=\u001b[0m \u001b[0mlen\u001b[0m\u001b[1;33m(\u001b[0m\u001b[0mself\u001b[0m\u001b[1;33m)\u001b[0m\u001b[1;33m:\u001b[0m\u001b[1;33m\u001b[0m\u001b[1;33m\u001b[0m\u001b[0m\n\u001b[1;32m--> 587\u001b[1;33m             \u001b[1;32mraise\u001b[0m \u001b[0mIndexError\u001b[0m\u001b[1;33m(\u001b[0m\u001b[0midx\u001b[0m\u001b[1;33m)\u001b[0m\u001b[1;33m\u001b[0m\u001b[1;33m\u001b[0m\u001b[0m\n\u001b[0m\u001b[0;32m    588\u001b[0m         return self._pathcls._from_parsed_parts(self._drv, self._root,\n\u001b[0;32m    589\u001b[0m                                                 self._parts[:-idx - 1])\n",
      "\u001b[1;31mIndexError\u001b[0m: 2"
     ]
    }
   ],
   "source": [
    "project_dir = Path(os.getenv(\"project_dir\")).resolve().parents[2]\n",
    "input_filepath = project_dir / \"data\" / \"raw\"\n",
    "output_filepath = project_dir / \"data\" / \"processed\"\n",
    "interim_filepath = project_dir / \"data\" / \"interim\""
   ]
  },
  {
   "cell_type": "code",
   "execution_count": 20,
   "metadata": {},
   "outputs": [
    {
     "data": {
      "text/plain": [
       "environ{'ADSK_CLM_WPAD_PROXY_CHECK': 'FALSE',\n",
       "        'ALLUSERSPROFILE': 'C:\\\\ProgramData',\n",
       "        'APPDATA': 'C:\\\\Users\\\\alexd\\\\AppData\\\\Roaming',\n",
       "        'COMMONPROGRAMFILES': 'C:\\\\Program Files\\\\Common Files',\n",
       "        'COMPUTERNAME': 'ALEX-DESTOPUS',\n",
       "        'COMSPEC': 'C:\\\\WINDOWS\\\\system32\\\\cmd.exe',\n",
       "        'COMMONPROGRAMFILES(X86)': 'C:\\\\Program Files (x86)\\\\Common Files',\n",
       "        'COMMONPROGRAMW6432': 'C:\\\\Program Files\\\\Common Files',\n",
       "        'CONDA_DEFAULT_ENV': 'base',\n",
       "        'CONDA_EXE': 'C:\\\\Users\\\\alexd\\\\Anaconda3\\\\Scripts\\\\conda.exe',\n",
       "        'CONDA_PREFIX': 'C:\\\\Users\\\\alexd\\\\Anaconda3',\n",
       "        'CONDA_PROMPT_MODIFIER': '(base) ',\n",
       "        'CONDA_PYTHON_EXE': 'C:\\\\Users\\\\alexd\\\\Anaconda3\\\\python.exe',\n",
       "        'CONDA_SHLVL': '1',\n",
       "        'DRIVERDATA': 'C:\\\\Windows\\\\System32\\\\Drivers\\\\DriverData',\n",
       "        'EXEPATH': 'C:\\\\Program Files\\\\Git\\\\bin',\n",
       "        'GOPATH': 'G:\\\\OneDrive\\\\GitHub\\\\Go-Workspace',\n",
       "        'GOROOT': 'C:\\\\Go\\\\',\n",
       "        'GTK_BASEPATH': 'C:\\\\Program Files (x86)\\\\GtkSharp\\\\2.12\\\\',\n",
       "        'HOME': 'C:\\\\Users\\\\alexd',\n",
       "        'HOMEDRIVE': 'C:',\n",
       "        'HOMEPATH': '\\\\Users\\\\alexd',\n",
       "        'LANG': 'en_US.UTF-8',\n",
       "        'LOCALAPPDATA': 'C:\\\\Users\\\\alexd\\\\AppData\\\\Local',\n",
       "        'LOGONSERVER': '\\\\\\\\ALEX-DESTOPUS',\n",
       "        'MSYSTEM': 'MINGW64',\n",
       "        'NUMBER_OF_PROCESSORS': '8',\n",
       "        'OS': 'Windows_NT',\n",
       "        'ONEDRIVE': 'C:\\\\Users\\\\alexd\\\\OneDrive',\n",
       "        'PATH': 'C:\\\\Users\\\\alexd\\\\Anaconda3;C:\\\\Users\\\\alexd\\\\Anaconda3\\\\Library\\\\mingw-w64\\\\bin;C:\\\\Users\\\\alexd\\\\Anaconda3\\\\Library\\\\usr\\\\bin;C:\\\\Users\\\\alexd\\\\Anaconda3\\\\Library\\\\bin;C:\\\\Users\\\\alexd\\\\Anaconda3\\\\Scripts;C:\\\\Users\\\\alexd\\\\Anaconda3\\\\bin;C:\\\\Users\\\\alexd\\\\Anaconda3\\\\condabin;C:\\\\Program Files\\\\Git\\\\mingw64\\\\bin;C:\\\\Program Files\\\\Git\\\\usr\\\\bin;C:\\\\Users\\\\alexd\\\\bin;C:\\\\Program Files (x86)\\\\NVIDIA Corporation\\\\PhysX\\\\Common;C:\\\\Program Files (x86)\\\\Common Files\\\\Oracle\\\\Java\\\\javapath;C:\\\\ProgramData\\\\Oracle\\\\Java\\\\javapath;C:\\\\WINDOWS\\\\system32;C:\\\\WINDOWS;C:\\\\WINDOWS\\\\System32\\\\Wbem;C:\\\\WINDOWS\\\\System32\\\\WindowsPowerShell\\\\v1.0;C:\\\\Program Files\\\\mingw-w64\\\\x86_64-6.2.0-win32-seh-rt_v5-rev1\\\\mingw64\\\\bin;C:\\\\Program Files\\\\nodejs;C:\\\\Users\\\\alexd\\\\AppData\\\\Local\\\\Programs\\\\Python\\\\Python35;C:\\\\Users\\\\alexd\\\\AppData\\\\Local\\\\Programs\\\\Python\\\\Python35\\\\Scripts;C:\\\\Go\\\\bin;C:\\\\Program Files (x86)\\\\GtkSharp\\\\2.12\\\\bin;C:\\\\Program Files (x86)\\\\SMLNJ\\\\bin;C:\\\\Program Files (x86)\\\\Universal Extractor;C:\\\\Program Files (x86)\\\\Universal Extractor\\\\bin;C:\\\\php;C:\\\\WINDOWS\\\\System32\\\\OpenSSH;F:\\\\Matlab\\\\runtime\\\\win64;F:\\\\Matlab 2018\\\\runtime\\\\win64;F:\\\\Matlab 2018\\\\bin;F:\\\\Matlab\\\\bin;C:\\\\Users\\\\alexd\\\\Anaconda3\\\\Library\\\\bin;C:\\\\HashiCorp\\\\Vagrant\\\\bin;C:\\\\Program Files\\\\Git\\\\cmd;C:\\\\Users\\\\alexd\\\\Anaconda3;C:\\\\Users\\\\alexd\\\\Anaconda3\\\\Library\\\\mingw-w64\\\\bin;C:\\\\Users\\\\alexd\\\\Anaconda3\\\\Library\\\\usr\\\\bin;C:\\\\Users\\\\alexd\\\\Anaconda3\\\\Library\\\\bin;C:\\\\Users\\\\alexd\\\\Anaconda3\\\\Scripts;C:\\\\Program Files (x86)\\\\Elm Platform\\\\0.18\\\\bin;C:\\\\Users\\\\alexd\\\\AppData\\\\Local\\\\Microsoft\\\\WindowsApps;C:\\\\Users\\\\alexd\\\\AppData\\\\Roaming\\\\npm;C:\\\\Program Files (x86)\\\\Microsoft VS Code\\\\bin;C:\\\\Users\\\\alexd\\\\AppData\\\\Local\\\\GitHubDesktop\\\\bin',\n",
       "        'PATHEXT': '.COM;.EXE;.BAT;.CMD;.VBS;.VBE;.JS;.JSE;.WSF;.WSH;.MSC',\n",
       "        'PLINK_PROTOCOL': 'ssh',\n",
       "        'PROCESSOR_ARCHITECTURE': 'AMD64',\n",
       "        'PROCESSOR_IDENTIFIER': 'Intel64 Family 6 Model 94 Stepping 3, GenuineIntel',\n",
       "        'PROCESSOR_LEVEL': '6',\n",
       "        'PROCESSOR_REVISION': '5e03',\n",
       "        'PROGRAMFILES': 'C:\\\\Program Files',\n",
       "        'PROMPT': '(base) $P$G',\n",
       "        'PS1': '\\\\[\\\\033]0;$TITLEPREFIX:$PWD\\\\007\\\\]\\\\n\\\\[\\\\033[32m\\\\]\\\\u@\\\\h \\\\[\\\\033[35m\\\\]$MSYSTEM \\\\[\\\\033[33m\\\\]\\\\w\\\\[\\\\033[36m\\\\]`__git_ps1`\\\\[\\\\033[0m\\\\]\\\\n$ ',\n",
       "        'PSMODULEPATH': 'C:\\\\Program Files\\\\WindowsPowerShell\\\\Modules;C:\\\\WINDOWS\\\\system32\\\\WindowsPowerShell\\\\v1.0\\\\Modules',\n",
       "        'PUBLIC': 'C:\\\\Users\\\\Public',\n",
       "        'PWD': 'F:/vegfru_recognition',\n",
       "        'PROGRAMDATA': 'C:\\\\ProgramData',\n",
       "        'PROGRAMFILES(X86)': 'C:\\\\Program Files (x86)',\n",
       "        'PROGRAMW6432': 'C:\\\\Program Files',\n",
       "        'PYTHONIOENCODING': '1252',\n",
       "        'SESSIONNAME': 'Console',\n",
       "        'SHLVL': '2',\n",
       "        'SMLNJ_HOME': 'C:\\\\Program Files (x86)\\\\SMLNJ\\\\',\n",
       "        'SYSTEMDRIVE': 'C:',\n",
       "        'SYSTEMROOT': 'C:\\\\WINDOWS',\n",
       "        'TEMP': 'C:\\\\Users\\\\alexd\\\\AppData\\\\Local\\\\Temp',\n",
       "        'TERM': 'xterm-color',\n",
       "        'TERM_PROGRAM': 'vscode',\n",
       "        'TERM_PROGRAM_VERSION': '1.23.1',\n",
       "        'TMP': 'C:\\\\Users\\\\alexd\\\\AppData\\\\Local\\\\Temp',\n",
       "        'USERDOMAIN': 'ALEX-DESTOPUS',\n",
       "        'USERDOMAIN_ROAMINGPROFILE': 'ALEX-DESTOPUS',\n",
       "        'USERNAME': 'alexd',\n",
       "        'USERPROFILE': 'C:\\\\Users\\\\alexd',\n",
       "        'VBOX_MSI_INSTALL_PATH': 'C:\\\\Program Files\\\\Oracle\\\\VirtualBox\\\\',\n",
       "        'VS110COMNTOOLS': 'C:\\\\Program Files (x86)\\\\Microsoft Visual Studio 11.0\\\\Common7\\\\Tools\\\\',\n",
       "        'VS120COMNTOOLS': 'C:\\\\Program Files (x86)\\\\Microsoft Visual Studio 12.0\\\\Common7\\\\Tools\\\\',\n",
       "        'VS140COMNTOOLS': 'F:\\\\VS\\\\Common7\\\\Tools\\\\',\n",
       "        'VSCODE_CWD': 'C:\\\\Users\\\\alexd\\\\Desktop',\n",
       "        'VSCODE_IPC_HOOK': '\\\\\\\\.\\\\pipe\\\\79644392ea370fb3b52df132432d6dc9-1.23.1-main-sock',\n",
       "        'VSCODE_NLS_CONFIG': '{\"locale\":\"en-us\",\"availableLanguages\":{}}',\n",
       "        'VSCODE_NODE_CACHED_DATA_DIR_36248': 'C:\\\\Users\\\\alexd\\\\AppData\\\\Roaming\\\\Code\\\\CachedData\\\\d0182c3417d225529c6d5ad24b7572815d0de9ac',\n",
       "        'VSCODE_PID': '36248',\n",
       "        'WINDIR': 'C:\\\\WINDOWS',\n",
       "        '_': 'C:/WINDOWS/system32/cmd',\n",
       "        'ASL.LOG': 'Destination=file',\n",
       "        'JPY_INTERRUPT_EVENT': '2656',\n",
       "        'IPY_INTERRUPT_EVENT': '2656',\n",
       "        'JPY_PARENT_PID': '2504',\n",
       "        'CLICOLOR': '1',\n",
       "        'PAGER': 'cat',\n",
       "        'GIT_PAGER': 'cat',\n",
       "        'MPLBACKEND': 'module://ipykernel.pylab.backend_inline'}"
      ]
     },
     "execution_count": 20,
     "metadata": {},
     "output_type": "execute_result"
    }
   ],
   "source": [
    "os.environ"
   ]
  },
  {
   "cell_type": "code",
   "execution_count": null,
   "metadata": {},
   "outputs": [],
   "source": []
  }
 ],
 "metadata": {
  "kernelspec": {
   "display_name": "Python 3",
   "language": "python",
   "name": "python3"
  },
  "language_info": {
   "codemirror_mode": {
    "name": "ipython",
    "version": 3
   },
   "file_extension": ".py",
   "mimetype": "text/x-python",
   "name": "python",
   "nbconvert_exporter": "python",
   "pygments_lexer": "ipython3",
   "version": "3.7.1"
  }
 },
 "nbformat": 4,
 "nbformat_minor": 2
}
